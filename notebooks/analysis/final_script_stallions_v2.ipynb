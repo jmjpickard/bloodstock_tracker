{
 "cells": [
  {
   "cell_type": "markdown",
   "metadata": {},
   "source": [
    "## Stallion scraping notebook\n",
    "***"
   ]
  },
  {
   "cell_type": "markdown",
   "metadata": {},
   "source": [
    "Script to search racing post and get basic information about pedigree, stallion performance when racing\n",
    "\n",
    "Then get detailed progeny statistics"
   ]
  },
  {
   "cell_type": "markdown",
   "metadata": {},
   "source": [
    "Import packages"
   ]
  },
  {
   "cell_type": "code",
   "execution_count": 2,
   "metadata": {},
   "outputs": [],
   "source": [
    "import pandas as pd\n",
    "import numpy as np\n",
    "import requests\n",
    "\n",
    "from bs4 import BeautifulSoup\n",
    "\n",
    "from selenium import webdriver \n",
    "from selenium.webdriver.common.by import By \n",
    "from selenium.webdriver.support.ui import WebDriverWait \n",
    "from selenium.webdriver.support import expected_conditions as EC \n",
    "from selenium.common.exceptions import TimeoutException\n",
    "from selenium.webdriver.common.keys import Keys\n",
    "from selenium.webdriver.common.by import By\n",
    "from selenium import webdriver\n",
    "from selenium.webdriver.chrome.options import Options\n",
    "from webdriver_manager.chrome import ChromeDriverManager\n",
    "\n",
    "import time\n",
    "import random\n",
    "import decimal"
   ]
  },
  {
   "cell_type": "markdown",
   "metadata": {},
   "source": [
    "***"
   ]
  },
  {
   "cell_type": "markdown",
   "metadata": {},
   "source": [
    "Define output dataframe column headers"
   ]
  },
  {
   "cell_type": "code",
   "execution_count": 3,
   "metadata": {},
   "outputs": [],
   "source": [
    "df1_cols = ['age',\n",
    "           'sire',\n",
    "           'dam',\n",
    "           'dam_sire',\n",
    "           'stud_fee',\n",
    "           'total_starts',\n",
    "           'total_earnings',\n",
    "           'top_rpr',\n",
    "           'sire_comments'\n",
    "           ]\n",
    "\n",
    "cols_df = []\n",
    "\n",
    "info_to_take = ['Flat','Turf','All-weather','Jumps','Chase','Hurdles',\n",
    "                'NHF','Broodmare sires','2yo','First Crop','5-6f','7-9f','10-11f',\n",
    "                '12-13f','14f+','Heavy','Soft','Gd-sft','Good','Gd-fm','Firm']\n",
    "\n",
    "for i in info_to_take:\n",
    "    new1 = str(i) + \"_win_runners\"\n",
    "    new2 = str(i) + \"_wins\"\n",
    "    new3 = str(i) + \"_runs\"\n",
    "    new4 = str(i) + \"_earnings\"\n",
    "    \n",
    "    cols_df.append(new1)\n",
    "    cols_df.append(new2)\n",
    "    cols_df.append(new3)\n",
    "    cols_df.append(new4)"
   ]
  },
  {
   "cell_type": "code",
   "execution_count": 4,
   "metadata": {},
   "outputs": [
    {
     "name": "stdout",
     "output_type": "stream",
     "text": [
      "<class 'pandas.core.frame.DataFrame'>\n",
      "RangeIndex: 317 entries, 0 to 316\n",
      "Data columns (total 7 columns):\n",
      " #   Column         Non-Null Count  Dtype  \n",
      "---  ------         --------------  -----  \n",
      " 0   STALLION NAME  311 non-null    object \n",
      " 1   STANDING       310 non-null    object \n",
      " 2   CTRY           310 non-null    object \n",
      " 3   STUD FEE       310 non-null    object \n",
      " 4   SIRE           310 non-null    object \n",
      " 5   SIRE LINE      310 non-null    object \n",
      " 6   YEARÊTO STUD   310 non-null    float64\n",
      "dtypes: float64(1), object(6)\n",
      "memory usage: 17.5+ KB\n"
     ]
    }
   ],
   "source": [
    "horse_list = pd.read_csv('../../input_data/stallion_list.csv', encoding= 'unicode_escape')\n",
    "horse_list.info()\n",
    "\n",
    "\n",
    "horse_ls = list(horse_list['STALLION NAME'])"
   ]
  },
  {
   "cell_type": "markdown",
   "metadata": {},
   "source": [
    "Now write the functions to get the data, differenciating weatherby from non-weatherby registered stallions as they have different browser patterns\n",
    "***"
   ]
  },
  {
   "cell_type": "code",
   "execution_count": 5,
   "metadata": {},
   "outputs": [],
   "source": [
    "def find_the_correct_google_link(horse):\n",
    "    url2='http://www.google.com'\n",
    "    browser.get(url2)\n",
    "        \n",
    "    time.sleep(2)\n",
    "    \n",
    "    search = browser.find_element(By.NAME, 'q')\n",
    "    search.send_keys(str(horse) + ' racing post progeny')\n",
    "    search.send_keys(Keys.RETURN) # hit return after you enter search text\n",
    "    \n",
    "    time.sleep(2)\n",
    "    \n",
    "    try:\n",
    "        search_form=browser.find_elements(By.XPATH, '//h3[@class=\"LC20lb DKV0Md\"]')\n",
    "        time.sleep(2)\n",
    "        search_form[0].click()\n",
    "    except:\n",
    "        search_form=browser.find_elements(By.XPATH, '//h3[@class=\"LC20lb DKV0Md\"]')\n",
    "        time.sleep(2)\n",
    "        search_form[4].click()\n",
    "        \n",
    "# browser.find_element(By.XPATH, '(//h3[@class=\"LC20lb\"])[1]/a').click()"
   ]
  },
  {
   "cell_type": "code",
   "execution_count": 13,
   "metadata": {},
   "outputs": [],
   "source": [
    "def weatherby(horse):\n",
    "        \n",
    "    search_form=browser.find_elements(By.XPATH, '//a[@class=\"ui-tabs__tab pp-tabs__tab hidden-xs-down hidden-sm-down\"]')\n",
    "    search_form[0].click()\n",
    "        \n",
    "    time.sleep(3)\n",
    "        \n",
    "    timeout = 10\n",
    "    WebDriverWait(browser, timeout).until(EC.visibility_of_element_located((By.XPATH, \"//span[@class='hp-raceRecords__label']\")))\n",
    "        \n",
    "    element2 = browser.find_elements(By.XPATH, \"//td[@class='ui-table__cell']\")\n",
    "    titles = [x.text for x in element2]\n",
    "    year_perf=titles[-36:]\n",
    "    year_perf_2 = titles[-18:]\n",
    "    top_rpr = titles[10]\n",
    "    total_earnings = titles[7]\n",
    "    total_starts=titles[1]\n",
    "\n",
    "    age_element = browser.find_elements(By.XPATH, \"//dt[@class='pp-definition__term']\")\n",
    "    age_element_info = [x.text for x in age_element]\n",
    "    age=age_element_info[0]\n",
    "\n",
    "    sire = browser.find_elements(By.XPATH, \"//a[@class='ui-link ui-link_table js-popupLink hp-horseDefinition__link']\")\n",
    "    sire_info = [x.text for x in sire]\n",
    "\n",
    "    stud = browser.find_elements(By.XPATH, \"//span[@class='hp-nameRow__studFee__value']\")\n",
    "    stud_fee = [x.text for x in stud]\n",
    "    \n",
    "    comments = browser.find_elements(By.XPATH, \"//dd[@class='pp-definition__description']\")\n",
    "    sire_comments = [x.text for x in comments]\n",
    "\n",
    "    table_option1 = [age,\n",
    "                    sire_info[0],\n",
    "                    sire_info[1],\n",
    "                    sire_info[2],\n",
    "                    stud_fee[0],\n",
    "                    total_starts,\n",
    "                    total_earnings,\n",
    "                    top_rpr,\n",
    "                    sire_comments[5]]\n",
    "\n",
    "    df1.loc[horse,:]=table_option1\n",
    "    \n",
    "    time.sleep(float(decimal.Decimal(random.randrange(200, 300))/100))\n",
    "\n",
    "    search_form=browser.find_elements(By.XPATH, '//a[@class=\"ui-tabs__tab pp-tabs__tab\"]')\n",
    "    search_form[1].click()\n",
    "\n",
    "    time.sleep(float(decimal.Decimal(random.randrange(200, 300))/100))\n",
    "\n",
    "    search_form=browser.find_elements(By.XPATH, '//a[@class=\"ui-link ui-link_primary ui-popoverList__link pp-subTabs__tab\"]')\n",
    "    search_form[0].click()\n",
    "\n",
    "    time.sleep(float(decimal.Decimal(random.randrange(200, 300))/100))\n",
    "    \n",
    "    element2 = browser.find_elements(By.XPATH, \"//td[@class='ui-table__cell']\")\n",
    "    titles = [x.text for x in element2]\n",
    "\n",
    "\n",
    "    info_to_take = ['Flat','Turf','All-weather','Jumps','Chase','Hurdles',\n",
    "                    'NHF','Broodmare sires','2yo','First Crop','5-6f','7-9f','10-11f',\n",
    "                    '12-13f','14f+','Heavy','Soft','Gd-sft','Good','Gd-fm','Firm']\n",
    "\n",
    "    time.sleep(float(decimal.Decimal(random.randrange(150, 300))/100))\n",
    "    \n",
    "    for i in info_to_take:\n",
    "        if i in titles:\n",
    "            col1 = str(i) + \"_win_runners\"\n",
    "            col2 = str(i) + \"_wins\"\n",
    "            col3 = str(i) + \"_runs\"\n",
    "            col4 = str(i) + \"_earnings\"\n",
    "\n",
    "            find_index = titles.index(i)\n",
    "\n",
    "            win_runners = titles[find_index + 1]\n",
    "            wins = titles[find_index + 3]\n",
    "            runs = titles[find_index + 4]\n",
    "            earnings = titles[find_index + 8]\n",
    "\n",
    "            df2.loc[horse,[col1, col2, col3, col4]]=[win_runners, wins, runs, earnings]\n",
    "\n",
    "\n",
    "\n",
    "\n",
    "    return df1, df2\n"
   ]
  },
  {
   "cell_type": "code",
   "execution_count": 7,
   "metadata": {},
   "outputs": [],
   "source": [
    "def non_weatherby(horse):\n",
    "    other_click = browser.find_elements(By.XPATH, '//button[@class=\"ui-reset-for-btn ui-modal__closeBtn\"]')\n",
    "    other_click[0].click()\n",
    "\n",
    "    time.sleep(2)\n",
    "\n",
    "    search_form=browser.find_elements(By.XPATH, '//a[@class=\"ui-tabs__tab pp-tabs__tab hidden-xs-down\"]')\n",
    "    search_form[0].click()\n",
    "\n",
    "    timeout = 10\n",
    "    WebDriverWait(browser, timeout).until(EC.visibility_of_element_located((By.XPATH, \"//h2[@class='hp-formTable__title']\")))\n",
    "\n",
    "\n",
    "    element2 = browser.find_elements(By.XPATH, \"//td[@class='ui-table__cell']\")\n",
    "    titles = [x.text for x in element2]\n",
    "    top_rpr = titles[10]\n",
    "    total_earnings = titles[7]\n",
    "    total_starts=titles[1]\n",
    "\n",
    "    age_element = browser.find_elements(By.XPATH, \"//dt[@class='pp-definition__term']\")\n",
    "    age_element_info = [x.text for x in age_element]\n",
    "    age=age_element_info[0]\n",
    "\n",
    "    sire = browser.find_elements(By.XPATH, \"//a[@class='ui-link ui-link_table js-popupLink hp-horseDefinition__link']\")\n",
    "    sire_info = [x.text for x in sire]\n",
    "\n",
    "    stud = browser.find_elements(By.XPATH, \"//span[@class='hp-nameRow__studFee__value']\")\n",
    "    if not stud:\n",
    "        stud_fee = 'not there'\n",
    "    else:\n",
    "        stud_fee = [x.text for x in stud]\n",
    "\n",
    "    comments = browser.find_elements(By.XPATH, \"//dd[@class='pp-definition__description']\")\n",
    "    sire_comments = [x.text for x in comments]\n",
    "\n",
    "    table_option = [age,\n",
    "                    sire_info[0],\n",
    "                    sire_info[1],\n",
    "                    sire_info[2],\n",
    "                    stud_fee[0],\n",
    "                    total_starts,\n",
    "                    total_earnings,\n",
    "                    top_rpr,\n",
    "                    sire_comments[5]]\n",
    "\n",
    "\n",
    "    time.sleep(float(decimal.Decimal(random.randrange(200, 300))/100))\n",
    "\n",
    "    search_form=browser.find_elements(By.XPATH, '//a[@class=\"ui-tabs__tab pp-tabs__tab\"]')\n",
    "    search_form[0].click()\n",
    "\n",
    "    time.sleep(float(decimal.Decimal(random.randrange(200, 300))/100))\n",
    "\n",
    "    search_form=browser.find_elements(By.XPATH, '//a[@class=\"ui-link ui-link_primary ui-popoverList__link pp-subTabs__tab\"]')\n",
    "    search_form[0].click()\n",
    "\n",
    "    time.sleep(float(decimal.Decimal(random.randrange(100, 150))/100))\n",
    "\n",
    "    element2 = browser.find_elements(By.XPATH, \"//td[@class='ui-table__cell']\")\n",
    "    titles = [x.text for x in element2]\n",
    "\n",
    "    time.sleep(float(decimal.Decimal(random.randrange(150, 300))/100))\n",
    "\n",
    "    info_to_take = ['Flat','Turf','All-weather','Jumps','Chase','Hurdles',\n",
    "                    'NHF','Broodmare sires','2yo','First Crop','5-6f','7-9f','10-11f',\n",
    "                    '12-13f','14f+','Heavy','Soft','Gd-sft','Good','Gd-fm','Firm']\n",
    "\n",
    "\n",
    "    for i in info_to_take:\n",
    "        if i in titles:\n",
    "            col1 = str(i) + \"_win_runners\"\n",
    "            col2 = str(i) + \"_wins\"\n",
    "            col3 = str(i) + \"_runs\"\n",
    "            col4 = str(i) + \"_earnings\"\n",
    "\n",
    "            find_index = titles.index(i)\n",
    "\n",
    "            win_runners = titles[find_index + 1]\n",
    "            wins = titles[find_index + 3]\n",
    "            runs = titles[find_index + 4]\n",
    "            earnings = titles[find_index + 8]\n",
    "\n",
    "            df2.loc[horse,[col1, col2, col3, col4]]=[win_runners, wins, runs, earnings]\n",
    "\n",
    "\n",
    "\n",
    "\n",
    "    return df1, df2"
   ]
  },
  {
   "cell_type": "code",
   "execution_count": null,
   "metadata": {},
   "outputs": [],
   "source": []
  },
  {
   "cell_type": "code",
   "execution_count": 10,
   "metadata": {},
   "outputs": [],
   "source": [
    "def racingpost(horse):\n",
    "    \n",
    "    time.sleep(3)\n",
    "    \n",
    "    find_the_correct_google_link(horse)\n",
    "    \n",
    "    time.sleep(3)\n",
    "    \n",
    "    timeout = 10\n",
    "    try:\n",
    "        weatherby(horse)\n",
    "    except:\n",
    "        non_weatherby(horse)\n",
    "        "
   ]
  },
  {
   "cell_type": "markdown",
   "metadata": {},
   "source": [
    "***"
   ]
  },
  {
   "cell_type": "markdown",
   "metadata": {},
   "source": [
    "***"
   ]
  },
  {
   "cell_type": "code",
   "execution_count": 17,
   "metadata": {},
   "outputs": [
    {
     "name": "stderr",
     "output_type": "stream",
     "text": [
      "[WDM] - \n",
      "\n",
      "[WDM] - ====== WebDriver manager ======\n",
      "[WDM] - Current google-chrome version is 95.0.4638\n",
      "[WDM] - Get LATEST driver version for 95.0.4638\n",
      "[WDM] - Driver [/Users/jackpickard/.wdm/drivers/chromedriver/mac64/95.0.4638.69/chromedriver] found in cache\n",
      "/var/folders/jf/wwr3jnbx3zvfghjk_j_tbxnm0000gp/T/ipykernel_75830/1608919976.py:3: DeprecationWarning: executable_path has been deprecated, please pass in a Service object\n",
      "  browser = webdriver.Chrome(ChromeDriverManager().install())\n"
     ]
    },
    {
     "name": "stdout",
     "output_type": "stream",
     "text": [
      "1/317, failed=0\n",
      "2/317, failed=0\n",
      "3/317, failed=0\n",
      "4/317, failed=0\n",
      "5/317, failed=0\n",
      "6/317, failed=0\n",
      "7/317, failed=0\n",
      "8/317, failed=0\n",
      "9/317, failed=0\n",
      "10/317, failed=0\n",
      "11/317, failed=0\n"
     ]
    }
   ],
   "source": [
    "failed = []\n",
    "\n",
    "browser = webdriver.Chrome(ChromeDriverManager().install())\n",
    "browser.get('http://www.racingpost.com')\n",
    "\n",
    "time.sleep(2)\n",
    "browser.get('http://www.google.com')\n",
    "time.sleep(1)\n",
    "\n",
    "google_popup1 = browser.find_elements(By.XPATH, '//div[@class=\"jyfHyd\"]')\n",
    "google_popup2 = browser.find_elements(By.XPATH, '//div[@class=\"QS5gu sy4vM\"]')  \n",
    "\n",
    "if len(google_popup1) > 0:\n",
    "    google_popup1[1].click()\n",
    "\n",
    "\n",
    "if len(google_popup2) > 0:\n",
    "    google_popup2[1].click()\n",
    "\n",
    " \n",
    "df1=pd.DataFrame(columns=df1_cols)\n",
    "df2=pd.DataFrame(columns=cols_df)\n",
    "\n",
    "i=0\n",
    "\n",
    "for horse in horse_ls:\n",
    "    try:\n",
    "        racingpost(horse)\n",
    "    except:\n",
    "        failed.append(horse)\n",
    "    i=i+1\n",
    "    print('{}/{}, failed={}'.format(i, len(horse_ls), len(failed)))\n"
   ]
  },
  {
   "cell_type": "markdown",
   "metadata": {},
   "source": [
    "***\n",
    "Download output dataframes"
   ]
  },
  {
   "cell_type": "code",
   "execution_count": null,
   "metadata": {},
   "outputs": [],
   "source": [
    "df1.to_csv('df1_11may20_stallions.csv')"
   ]
  },
  {
   "cell_type": "code",
   "execution_count": null,
   "metadata": {},
   "outputs": [],
   "source": [
    "df2.to_csv('df2_11may20_stallions.csv')"
   ]
  },
  {
   "cell_type": "code",
   "execution_count": null,
   "metadata": {},
   "outputs": [],
   "source": [
    "df3 = df2.merge(df1, left_index=True, right_index=True)"
   ]
  },
  {
   "cell_type": "code",
   "execution_count": null,
   "metadata": {},
   "outputs": [],
   "source": []
  },
  {
   "cell_type": "code",
   "execution_count": null,
   "metadata": {},
   "outputs": [],
   "source": [
    "df3.to_csv('progeny_stats_11may20_original.csv')"
   ]
  },
  {
   "cell_type": "code",
   "execution_count": null,
   "metadata": {},
   "outputs": [],
   "source": [
    "df3.sample().transpose()"
   ]
  },
  {
   "cell_type": "code",
   "execution_count": null,
   "metadata": {},
   "outputs": [],
   "source": []
  }
 ],
 "metadata": {
  "kernelspec": {
   "display_name": "Python 3 (ipykernel)",
   "language": "python",
   "name": "python3"
  },
  "language_info": {
   "codemirror_mode": {
    "name": "ipython",
    "version": 3
   },
   "file_extension": ".py",
   "mimetype": "text/x-python",
   "name": "python",
   "nbconvert_exporter": "python",
   "pygments_lexer": "ipython3",
   "version": "3.9.6"
  }
 },
 "nbformat": 4,
 "nbformat_minor": 4
}
