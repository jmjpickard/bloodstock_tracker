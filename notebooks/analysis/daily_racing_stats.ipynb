{
 "cells": [
  {
   "cell_type": "markdown",
   "metadata": {},
   "source": [
    "## Daily racing stats scraping notebook\n",
    "***"
   ]
  },
  {
   "cell_type": "code",
   "execution_count": 102,
   "metadata": {},
   "outputs": [],
   "source": [
    "import pandas as pd\n",
    "import numpy as np\n",
    "import requests\n",
    "\n",
    "from bs4 import BeautifulSoup\n",
    "\n",
    "from selenium import webdriver \n",
    "from selenium.webdriver.common.by import By \n",
    "from selenium.webdriver.support.ui import WebDriverWait \n",
    "from selenium.webdriver.support import expected_conditions as EC \n",
    "from selenium.common.exceptions import TimeoutException\n",
    "from selenium.webdriver.common.keys import Keys\n",
    "from selenium.webdriver.common.by import By\n",
    "from selenium import webdriver\n",
    "from selenium.webdriver.chrome.options import Options\n",
    "from webdriver_manager.chrome import ChromeDriverManager\n",
    "\n",
    "from currency_converter import CurrencyConverter\n",
    "\n",
    "import json \n",
    "import hashlib\n",
    "\n",
    "import time\n",
    "import random\n",
    "import decimal"
   ]
  },
  {
   "cell_type": "code",
   "execution_count": 99,
   "metadata": {},
   "outputs": [],
   "source": [
    "\n",
    "race_cols = [\n",
    "    \"date\",\n",
    "    \"track\", \n",
    "    \"race_name\", \n",
    "    \"race_age_group\", \n",
    "    \"race_class\", \n",
    "    \"distance\", \n",
    "    \"going\", \n",
    "    \"runners\", \n",
    "    \"track_type\", \n",
    "    \"race_type\",\n",
    "    \"off_time\", \n",
    "    \"winning_time\",\n",
    "    \"prize_money_json\", \n",
    "    \"purse\"\n",
    "]\n",
    "\n",
    "horse_cols = [\n",
    "    \"race_id\",\n",
    "    \"horse_id\",  \n",
    "    \"horse_name\",\n",
    "    \"horse_age\",\n",
    "    \"horse_sex\",  \n",
    "    \"dam\", \n",
    "    \"sire\", \n",
    "    \"owner\", \n",
    "    \"trainer\", \n",
    "    \"jockey\", \n",
    "    \"weight\", \n",
    "    \"position\", \n",
    "    \"beaten_by\", \n",
    "    \"winnings\", \n",
    "    \"stall_number\", \n",
    "    \"horse_running_description\",\n",
    "    \"estimated_running_time\"\n",
    "]"
   ]
  },
  {
   "cell_type": "code",
   "execution_count": 117,
   "metadata": {},
   "outputs": [],
   "source": [
    "race_df = pd.DataFrame(columns=race_cols)\n",
    "horse_df = pd.DataFrame(columns=horse_cols)"
   ]
  },
  {
   "cell_type": "code",
   "execution_count": 107,
   "metadata": {},
   "outputs": [],
   "source": [
    "from typing import List\n",
    "\n",
    "class Horse:\n",
    "    def __init__(self, browser):\n",
    "        self.browser = browser \n",
    "        \n",
    "    def get_horse_id(self):\n",
    "        hash_object = hashlib.md5(self.name.encode())\n",
    "        return hash_object.hexdigest()\n",
    "        \n",
    "    def get_horse_details(self, position):\n",
    "        self.position = position\n",
    "        self.id = self.get_horse_id(self)\n",
    "        \n",
    "    def get_breeding_details(self, sire):\n",
    "        self.sire = sire\n",
    "        \n",
    "    # function to get horse id\n",
    "    # function to add record to races dataset\n",
    "    # function to add horse to horse dataset if not already in there\n",
    "        \n",
    "class Race:\n",
    "    def __init__(self, browser):\n",
    "        self.browser=browser\n",
    "        \n",
    "    def get_race_info(self):\n",
    "        self.browser.current_url.split('/')\n",
    "        self.date = self.browser.current_url.split('/')[5]\n",
    "        self.track = self.browser.current_url.split('/')[6]\n",
    "\n",
    "        race_info = self.browser.find_elements(By.CSS_SELECTOR, \"div[class^='RacePage__SummaryWrapper']\")[0].text.split('\\n')\n",
    "        \n",
    "        self.race_name = race_info[0]\n",
    "        race_sub_info = self.get_variable_race_sub_info(race_info[1].split('  |   '))\n",
    "        self.race_age_group = race_sub_info[0]\n",
    "        self.race_class = race_sub_info[1]\n",
    "        self.distance = self.get_distance_in_yards(race_sub_info[2])\n",
    "        self.going = race_sub_info[3]\n",
    "        self.runners = race_sub_info[4].split(' ')[0]\n",
    "        self.track_type = race_sub_info[5]\n",
    "        timing = race_info[3].split('  |   ') \n",
    "        self.off_time = timing[0].split(': ')[1]\n",
    "        self.winning_time = self.get_time_in_seconds(timing[1].split(': ')[1])\n",
    "        self.race_type='Need to dev'\n",
    "        prize_money = self.get_prize_money_dict()\n",
    "        self.prize_money_json = json.dumps(prize_money)\n",
    "        self.purse = sum(prize_money.values())\n",
    "        \n",
    "    def get_variable_race_sub_info(self, race_sub_info: List[str]) -> List[str]:\n",
    "        if len(race_sub_info) == 5:\n",
    "            [race_age_group, distance, going, num_runners, track] = race_sub_info\n",
    "            class_of_race = 'N/A'  \n",
    "        else:\n",
    "            [race_age_group, class_of_race, distance, going, num_runners, track] = race_sub_info\n",
    "        \n",
    "        return [race_age_group, class_of_race, distance, going, num_runners, track] \n",
    "        \n",
    "        \n",
    "    def get_time_in_seconds(self, winning_time: str) -> float:\n",
    "        \"\"\"\n",
    "        Input looks like this '5m 6.71s' -> convert to total seconds\n",
    "        \"\"\"\n",
    "        if len(winning_time.split(' ')) == 1:\n",
    "            seconds = float(winning_time.replace('s',''))\n",
    "            self.winning_time = seconds\n",
    "            return seconds\n",
    "        else:\n",
    "            [min, sec] = winning_time.split(' ')\n",
    "            min_to_seconds = int(min.replace('m', '')) * 60\n",
    "            seconds = float(sec.replace('s',''))\n",
    "            total_time =  min_to_seconds + seconds\n",
    "            self.winning_time = total_time\n",
    "            return total_time\n",
    "        \n",
    "    def get_distance_in_yards(self, distance: str) -> int:\n",
    "        segments = distance.split(' ')\n",
    "        race_yards = 0\n",
    "        for item in segments:\n",
    "            if 'm' in item:\n",
    "                miles = item.replace('m','')\n",
    "                miles_to_yards = int(miles) * 1760\n",
    "                race_yards += miles_to_yards\n",
    "            elif 'f' in item: \n",
    "                furlongs = item.replace('f', '')\n",
    "                furlongs_to_yards = int(furlongs) * 220 \n",
    "                race_yards += furlongs_to_yards \n",
    "            elif 'y' in item:\n",
    "                yards = item.replace('y', '')\n",
    "                race_yards += int(yards)\n",
    "        return race_yards\n",
    "    \n",
    "    def get_winnings_in_gbp(self, winnings_string: str) -> float:\n",
    "        winning_val = winnings_string[1:].replace(',','')\n",
    "        if winnings_string[0] == '€':\n",
    "            winnings = float(winning_val)\n",
    "            return c.convert(winnings, 'EUR', 'GBP')\n",
    "        else: \n",
    "            return float(winning_val)\n",
    "    \n",
    "    def get_prize_money_dict(self) -> dict:\n",
    "        prize_money_elements = self.browser.find_elements(By.CSS_SELECTOR, \"div[class^='PrizeMoney__PrizeSummary-sc-199orl7-3']\")[0].text.split('\\n')\n",
    "        prize_money = {} \n",
    "        for i, item in enumerate(prize_money_elements):\n",
    "            if (i % 2 == 0) | (i == 0):\n",
    "                key = prize_money_elements[i][:-3] #removes text just leaves the position number as a string\n",
    "                val = prize_money_elements[i+1] \n",
    "                prize_money[key] = self.get_winnings_in_gbp(winnings_string = val) \n",
    "                \n",
    "        return prize_money\n",
    "    \n",
    "    def add_to_df(self, df):\n",
    "        row_dict = {\n",
    "            \"date\": self.date,\n",
    "            \"track\": self.track, \n",
    "            \"race_name\": self.race_name, \n",
    "            \"race_age_group\": self.race_age_group,\n",
    "            \"race_class\": self.race_class,\n",
    "            \"distance\": self.distance,\n",
    "            \"going\": self.going,\n",
    "            \"runners\": self.runners,\n",
    "            \"track_type\": self.track_type,\n",
    "            \"race_type\": self.race_type,\n",
    "            \"off_time\": self.off_time,\n",
    "            \"winning_time\": self.winning_time, \n",
    "            \"prize_money_json\": self.prize_money_json, \n",
    "            \"purse\": self.purse\n",
    "        }\n",
    "        df = df.append(row_dict, ignore_index=True)\n",
    "        return df\n",
    "        "
   ]
  },
  {
   "cell_type": "code",
   "execution_count": 108,
   "metadata": {},
   "outputs": [
    {
     "name": "stderr",
     "output_type": "stream",
     "text": [
      "[WDM] - \n",
      "\n",
      "[WDM] - ====== WebDriver manager ======\n",
      "[WDM] - Current google-chrome version is 96.0.4664\n",
      "[WDM] - Get LATEST driver version for 96.0.4664\n",
      "[WDM] - Driver [/Users/jackpickard/.wdm/drivers/chromedriver/mac64/96.0.4664.45/chromedriver] found in cache\n",
      "/var/folders/jf/wwr3jnbx3zvfghjk_j_tbxnm0000gp/T/ipykernel_42745/1682806943.py:1: DeprecationWarning: executable_path has been deprecated, please pass in a Service object\n",
      "  browser = webdriver.Chrome(ChromeDriverManager().install())\n"
     ]
    },
    {
     "name": "stdout",
     "output_type": "stream",
     "text": [
      "1/30\n",
      "2/30\n",
      "3/30\n",
      "4/30\n",
      "5/30\n",
      "6/30\n",
      "7/30\n",
      "8/30\n",
      "9/30\n",
      "10/30\n",
      "11/30\n",
      "12/30\n",
      "13/30\n",
      "14/30\n",
      "15/30\n",
      "16/30\n",
      "17/30\n",
      "18/30\n",
      "19/30\n",
      "20/30\n",
      "21/30\n",
      "22/30\n",
      "23/30\n",
      "24/30\n",
      "25/30\n",
      "26/30\n",
      "27/30\n",
      "28/30\n",
      "29/30\n",
      "30/30\n"
     ]
    }
   ],
   "source": [
    "browser = webdriver.Chrome(ChromeDriverManager().install())\n",
    "browser.get('https://www.sportinglife.com/racing/results/yesterday')\n",
    "time.sleep(float(decimal.Decimal(random.randrange(200, 300))/100))\n",
    "cookies_button = browser.find_elements(By.CSS_SELECTOR, \"button[class^='BaseButton__BaseButtonStyled-e225m1-0']\")\n",
    "if len(cookies_button) > 0:\n",
    "    cookies_button[0].click() \n",
    "num_races = len(browser.find_elements(By.CSS_SELECTOR, \"span[class^='Race__RaceTime-sc-16yubq3-1']\"))\n",
    "race_selectors = [\"span[class^='Race__RaceTime-sc-16yubq3-1']\", \n",
    "                  \"div[class^='FutureRace__RaceName-sc-1yen8s9-0']\", \n",
    "                  \"div[class^='FutureRace__RaceDetailsContainer-sc-1yen8s9-1']\"] # this gives impression of clicking on different parts of the race button\n",
    "\n",
    "for i in range(0, num_races):\n",
    "    timeout = 10\n",
    "    idx = random.randint(0,2)\n",
    "    WebDriverWait(browser, timeout).until(EC.visibility_of_element_located((By.CSS_SELECTOR, race_selectors[idx])))\n",
    "    browser.refresh()\n",
    "    time.sleep(float(decimal.Decimal(random.randrange(100, 200))/100))\n",
    "    races = browser.find_elements(By.CSS_SELECTOR, race_selectors[idx])\n",
    "    browser.execute_script(\"arguments[0].click();\", races[i])\n",
    "    time.sleep(float(decimal.Decimal(random.randrange(500, 1000))/100))\n",
    "    new_race = Race(browser)\n",
    "    new_race.get_race_info()\n",
    "    race_df = new_race.add_to_df(race_df)\n",
    "    browser.back()\n",
    "    time.sleep(float(decimal.Decimal(random.randrange(500, 1200))/100))\n",
    "    print(f'{i+1}/{num_races}')\n"
   ]
  },
  {
   "cell_type": "code",
   "execution_count": 113,
   "metadata": {},
   "outputs": [
    {
     "data": {
      "text/plain": [
       "track\n",
       "cork           172302.34000\n",
       "huntingdon     162206.00000\n",
       "kelso          105429.00000\n",
       "punchestown    154901.50122\n",
       "Name: purse, dtype: float64"
      ]
     },
     "execution_count": 113,
     "metadata": {},
     "output_type": "execute_result"
    }
   ],
   "source": [
    "race_df.groupby('track').purse.sum()"
   ]
  },
  {
   "cell_type": "code",
   "execution_count": 48,
   "metadata": {},
   "outputs": [
    {
     "data": {
      "text/plain": [
       "track\n",
       "aintree          352.971250\n",
       "chepstow         323.657500\n",
       "sandown          288.992857\n",
       "wetherby         321.400000\n",
       "wolverhampton    116.105714\n",
       "Name: winning_time, dtype: float64"
      ]
     },
     "execution_count": 48,
     "metadata": {},
     "output_type": "execute_result"
    }
   ],
   "source": [
    "race_df.groupby(['track']).winning_time.mean()"
   ]
  },
  {
   "cell_type": "markdown",
   "metadata": {},
   "source": [
    "# Horse stuff\n",
    "\n",
    "***"
   ]
  },
  {
   "cell_type": "code",
   "execution_count": 36,
   "metadata": {},
   "outputs": [
    {
     "data": {
      "text/plain": [
       "['1st',\n",
       " '3',\n",
       " 'Tiquer',\n",
       " '1311-9',\n",
       " '25/1',\n",
       " 'T: Joe PontingJ: D A Jacob',\n",
       " 'Prominent, led 4 out, shaken up after 3 out and went clear, stayed on well, unchallenged home straight op 20/1 tchd 18/1',\n",
       " 'My Stable',\n",
       " 'My Stable']"
      ]
     },
     "execution_count": 36,
     "metadata": {},
     "output_type": "execute_result"
    }
   ],
   "source": [
    "# get the list of runners in results page\n",
    "runners = browser.find_elements(By.CSS_SELECTOR, \"div[class^='ResultRunner__StyledResultRunner']\")\n",
    "\n",
    "runners[0].text.split('\\n')"
   ]
  },
  {
   "cell_type": "code",
   "execution_count": 41,
   "metadata": {},
   "outputs": [],
   "source": [
    "# Links to click on the horse \n",
    "horseLinks = browser.find_elements(By.XPATH, \"//a\")\n",
    "selectedHorse = [i for i in horseLinks if i.text == 'Tiquer']\n",
    "if len(selectedHorse) > 0:\n",
    "    selectedHorse[0].click()"
   ]
  },
  {
   "cell_type": "code",
   "execution_count": 47,
   "metadata": {},
   "outputs": [
    {
     "data": {
      "text/plain": [
       "['Age 13 (Foaled 3rd April 2008)',\n",
       " 'Trainer Joe Ponting',\n",
       " 'Sex Gelding',\n",
       " 'Sire Equerry',\n",
       " 'Dam Tirenna',\n",
       " 'Owner Mr J Ponting']"
      ]
     },
     "execution_count": 47,
     "metadata": {},
     "output_type": "execute_result"
    }
   ],
   "source": [
    "# get breeding info for the horse\n",
    "browser.find_elements(By.CSS_SELECTOR, \"table[class^='Header__DataTable']\")[0].text.split('\\n')"
   ]
  },
  {
   "cell_type": "code",
   "execution_count": null,
   "metadata": {},
   "outputs": [],
   "source": []
  }
 ],
 "metadata": {
  "interpreter": {
   "hash": "aee8b7b246df8f9039afb4144a1f6fd8d2ca17a180786b69acc140d282b71a49"
  },
  "kernelspec": {
   "display_name": "Python 3.9.6 64-bit",
   "language": "python",
   "name": "python3"
  },
  "language_info": {
   "codemirror_mode": {
    "name": "ipython",
    "version": 3
   },
   "file_extension": ".py",
   "mimetype": "text/x-python",
   "name": "python",
   "nbconvert_exporter": "python",
   "pygments_lexer": "ipython3",
   "version": "3.9.6"
  },
  "orig_nbformat": 4
 },
 "nbformat": 4,
 "nbformat_minor": 2
}
