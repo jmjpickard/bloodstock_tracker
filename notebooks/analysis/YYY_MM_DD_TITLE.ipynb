{
 "cells": [
  {
   "cell_type": "markdown",
   "metadata": {},
   "source": [
    "# Objective of Notebook\n",
    "\n",
    "Why are you doing this analysis?\n",
    "What are you hoping to achieve?\n",
    "How does this fit into the wider project?\n",
    "\n",
    "## Plan of Attack\n",
    "\n",
    "1. First thing to do\n",
    "2. Second thing to do\n",
    "3. Third thing to do\n",
    "\n",
    "## Assumptions we have \n",
    "\n",
    "1. Assumption 1\n",
    "2. Assumption 2 \n",
    "\n",
    "## Unanswered questions\n",
    "\n"
   ]
  },
  {
   "cell_type": "code",
   "execution_count": 1,
   "metadata": {},
   "outputs": [],
   "source": [
    "## Import all the things that need importing first\n"
   ]
  },
  {
   "cell_type": "markdown",
   "metadata": {},
   "source": [
    "## First thing we are doing"
   ]
  },
  {
   "cell_type": "code",
   "execution_count": 2,
   "metadata": {},
   "outputs": [],
   "source": [
    "# Code Code code"
   ]
  },
  {
   "cell_type": "markdown",
   "metadata": {},
   "source": [
    "## Second thing we are doing"
   ]
  },
  {
   "cell_type": "code",
   "execution_count": null,
   "metadata": {},
   "outputs": [],
   "source": [
    "# Code code code"
   ]
  }
 ],
 "metadata": {
  "kernelspec": {
   "display_name": "Python 3",
   "language": "python",
   "name": "python3"
  },
  "language_info": {
   "codemirror_mode": {
    "name": "ipython",
    "version": 3
   },
   "file_extension": ".py",
   "mimetype": "text/x-python",
   "name": "python",
   "nbconvert_exporter": "python",
   "pygments_lexer": "ipython3",
   "version": "3.7.2"
  }
 },
 "nbformat": 4,
 "nbformat_minor": 4
}
